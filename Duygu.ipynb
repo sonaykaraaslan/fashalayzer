{
 "cells": [
  {
   "cell_type": "code",
   "execution_count": 1,
   "id": "fd290362-c01b-4528-af51-b086ce54d6d3",
   "metadata": {},
   "outputs": [
    {
     "name": "stderr",
     "output_type": "stream",
     "text": [
      "Some weights of BertForSequenceClassification were not initialized from the model checkpoint at bert-base-uncased and are newly initialized: ['classifier.bias', 'classifier.weight']\n",
      "You should probably TRAIN this model on a down-stream task to be able to use it for predictions and inference.\n",
      "C:\\Users\\sonay\\anaconda3\\Lib\\site-packages\\transformers\\training_args.py:1575: FutureWarning: `evaluation_strategy` is deprecated and will be removed in version 4.46 of 🤗 Transformers. Use `eval_strategy` instead\n",
      "  warnings.warn(\n"
     ]
    },
    {
     "data": {
      "text/html": [
       "\n",
       "    <div>\n",
       "      \n",
       "      <progress value='2277' max='2277' style='width:300px; height:20px; vertical-align: middle;'></progress>\n",
       "      [2277/2277 3:57:31, Epoch 3/3]\n",
       "    </div>\n",
       "    <table border=\"1\" class=\"dataframe\">\n",
       "  <thead>\n",
       " <tr style=\"text-align: left;\">\n",
       "      <th>Epoch</th>\n",
       "      <th>Training Loss</th>\n",
       "      <th>Validation Loss</th>\n",
       "    </tr>\n",
       "  </thead>\n",
       "  <tbody>\n",
       "    <tr>\n",
       "      <td>1</td>\n",
       "      <td>0.451200</td>\n",
       "      <td>0.352477</td>\n",
       "    </tr>\n",
       "    <tr>\n",
       "      <td>2</td>\n",
       "      <td>0.148000</td>\n",
       "      <td>0.303004</td>\n",
       "    </tr>\n",
       "    <tr>\n",
       "      <td>3</td>\n",
       "      <td>0.151200</td>\n",
       "      <td>0.315818</td>\n",
       "    </tr>\n",
       "  </tbody>\n",
       "</table><p>"
      ],
      "text/plain": [
       "<IPython.core.display.HTML object>"
      ]
     },
     "metadata": {},
     "output_type": "display_data"
    },
    {
     "data": {
      "text/plain": [
       "TrainOutput(global_step=2277, training_loss=0.3532347969962779, metrics={'train_runtime': 14267.1553, 'train_samples_per_second': 2.552, 'train_steps_per_second': 0.16, 'total_flos': 2394858328160256.0, 'train_loss': 0.3532347969962779, 'epoch': 3.0})"
      ]
     },
     "execution_count": 1,
     "metadata": {},
     "output_type": "execute_result"
    }
   ],
   "source": [
    "# Gerekli kütüphaneleri içe aktar\n",
    "import pandas as pd\n",
    "import torch\n",
    "from transformers import BertForSequenceClassification, BertTokenizer, Trainer, TrainingArguments\n",
    "from sklearn.model_selection import train_test_split\n",
    "\n",
    "# CSV dosyasını yükle\n",
    "df = pd.read_csv('C:/Users/sonay/Desktop/kaggle/e-ticaret_urun_yorumlari.csv', delimiter=';')\n",
    "\n",
    "# Gerekli sütunları seç ve boş değerleri temizle\n",
    "df = df[['Metin', 'Durum']]\n",
    "df.dropna(inplace=True)\n",
    "\n",
    "# Veriyi eğitim ve doğrulama setlerine ayır\n",
    "train_texts, val_texts, train_labels, val_labels = train_test_split(\n",
    "    df['Metin'].tolist(), df['Durum'].tolist(), test_size=0.2, random_state=42\n",
    ")\n",
    "\n",
    "# Tokenizer oluştur\n",
    "tokenizer = BertTokenizer.from_pretrained('bert-base-uncased')\n",
    "\n",
    "# Dataset sınıfı tanımla\n",
    "class ReviewDataset(torch.utils.data.Dataset):\n",
    "    def __init__(self, texts, labels):\n",
    "        self.encodings = tokenizer(texts, truncation=True, padding=True, max_length=128)\n",
    "        self.labels = labels\n",
    "\n",
    "    def __getitem__(self, idx):\n",
    "        item = {key: torch.tensor(val[idx]) for key, val in self.encodings.items()}\n",
    "        item['labels'] = torch.tensor(self.labels[idx])\n",
    "        return item\n",
    "\n",
    "    def __len__(self):\n",
    "        return len(self.labels)\n",
    "\n",
    "# Eğitim ve doğrulama dataset'lerini oluştur\n",
    "train_dataset = ReviewDataset(train_texts, train_labels)\n",
    "val_dataset = ReviewDataset(val_texts, val_labels)\n",
    "\n",
    "# BERT modelini yükle\n",
    "model = BertForSequenceClassification.from_pretrained('bert-base-uncased', num_labels=3)\n",
    "\n",
    "# TrainingArguments oluştur\n",
    "training_args = TrainingArguments(\n",
    "    output_dir='./results',\n",
    "    num_train_epochs=3,  # Fine-tuning için epoch sayısı\n",
    "    per_device_train_batch_size=16,\n",
    "    per_device_eval_batch_size=16,\n",
    "    warmup_steps=500,\n",
    "    weight_decay=0.01,\n",
    "    logging_dir='./logs',\n",
    "    logging_steps=10,\n",
    "    evaluation_strategy='epoch'\n",
    ")\n",
    "\n",
    "# Trainer oluştur\n",
    "trainer = Trainer(\n",
    "    model=model,\n",
    "    args=training_args,\n",
    "    train_dataset=train_dataset,\n",
    "    eval_dataset=val_dataset\n",
    ")\n",
    "\n",
    "# Fine-tuning adımı\n",
    "trainer.train()\n",
    "\n"
   ]
  },
  {
   "cell_type": "code",
   "execution_count": 2,
   "id": "96d9b26a-b6f3-4a9a-b3ca-6aa7c13fc234",
   "metadata": {},
   "outputs": [
    {
     "data": {
      "text/plain": [
       "('./saved_model\\\\tokenizer_config.json',\n",
       " './saved_model\\\\special_tokens_map.json',\n",
       " './saved_model\\\\vocab.txt',\n",
       " './saved_model\\\\added_tokens.json')"
      ]
     },
     "execution_count": 2,
     "metadata": {},
     "output_type": "execute_result"
    }
   ],
   "source": [
    "# Modeli kaydet\n",
    "trainer.save_model(\"./saved_model\")\n",
    "\n",
    "# Tokenizer'ı kaydet\n",
    "tokenizer.save_pretrained(\"./saved_model\")\n"
   ]
  },
  {
   "cell_type": "code",
   "execution_count": 7,
   "id": "dec068a6-0d38-415f-bab8-d70e4b1bec2b",
   "metadata": {},
   "outputs": [],
   "source": [
    "def predict_sentiment(text):\n",
    "    # Cümleyi tokenleştir\n",
    "    inputs = tokenizer(text, return_tensors=\"pt\", truncation=True, padding=True, max_length=128)\n",
    "    \n",
    "    # Model ile tahmin yap\n",
    "    with torch.no_grad():\n",
    "        outputs = model(**inputs)\n",
    "        logits = outputs.logits\n",
    "    \n",
    "    # En yüksek skora sahip sınıfı seç\n",
    "    prediction = torch.argmax(logits, dim=1).item()\n",
    "    \n",
    "    # Sınıf etiketlerini belirle (0, 1, 2 gibi)\n",
    "    label_map = {0: \"Negatif\", 1: \"Pozitif\", 2: \"Nötr\"}\n",
    "    \n",
    "    return label_map[prediction]\n"
   ]
  },
  {
   "cell_type": "code",
   "execution_count": 8,
   "id": "e803f8df-4c26-4b19-967b-05a8d887989e",
   "metadata": {},
   "outputs": [
    {
     "name": "stdout",
     "output_type": "stream",
     "text": [
      "Pozitif\n",
      "Nötr\n",
      "Negatif\n"
     ]
    }
   ],
   "source": [
    "print(predict_sentiment(\"Bu ürün harika, çok memnun kaldım!\"))     # Pozitif beklenir\n",
    "print(predict_sentiment(\"Ürün fena değil, idare eder.\"))            # Nötr beklenir\n",
    "print(predict_sentiment(\"Kötü bir ürün, hiç beğenmedim.\"))          # Negatif beklenir\n",
    "\n"
   ]
  },
  {
   "cell_type": "code",
   "execution_count": 23,
   "id": "4588453f-6174-4689-977a-f32c6b07b9fe",
   "metadata": {},
   "outputs": [
    {
     "name": "stdout",
     "output_type": "stream",
     "text": [
      "Pozitif\n"
     ]
    }
   ],
   "source": [
    "print(predict_sentiment(\"çok şık ve rahat bir ürün \"))    "
   ]
  },
  {
   "cell_type": "code",
   "execution_count": null,
   "id": "6f7ffa56-dbca-4cf6-8d01-0cce1646b9e0",
   "metadata": {},
   "outputs": [],
   "source": []
  }
 ],
 "metadata": {
  "kernelspec": {
   "display_name": "Python 3 (ipykernel)",
   "language": "python",
   "name": "python3"
  },
  "language_info": {
   "codemirror_mode": {
    "name": "ipython",
    "version": 3
   },
   "file_extension": ".py",
   "mimetype": "text/x-python",
   "name": "python",
   "nbconvert_exporter": "python",
   "pygments_lexer": "ipython3",
   "version": "3.12.4"
  }
 },
 "nbformat": 4,
 "nbformat_minor": 5
}
